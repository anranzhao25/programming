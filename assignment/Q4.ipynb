{
  "nbformat": 4,
  "nbformat_minor": 0,
  "metadata": {
    "colab": {
      "provenance": []
    },
    "kernelspec": {
      "name": "python3",
      "display_name": "Python 3"
    },
    "language_info": {
      "name": "python"
    }
  },
  "cells": [
    {
      "cell_type": "code",
      "execution_count": 3,
      "metadata": {
        "colab": {
          "base_uri": "https://localhost:8080/"
        },
        "id": "ifONiefVJFZl",
        "outputId": "0fcd5912-368c-405e-c42d-340d4e5d849f"
      },
      "outputs": [
        {
          "output_type": "stream",
          "name": "stdout",
          "text": [
            "{'maximum': 101.0, 'maximizer': 1.0}\n",
            "{'maximum': 101.12345679012346, 'maximizer': 0.7777777777777777}\n",
            "{'maximum': 101.12488521579431, 'maximizer': 0.7575757575757578}\n",
            "{'maximum': 101.12499987474962, 'maximizer': 0.7497497497497498}\n",
            "{'maximum': 101.124999994998, 'maximizer': 0.7499499899979996}\n"
          ]
        },
        {
          "output_type": "execute_result",
          "data": {
            "text/plain": [
              "101.125"
            ]
          },
          "metadata": {},
          "execution_count": 3
        }
      ],
      "source": [
        "import numpy as np\n",
        "import matplotlib.pyplot as plt\n",
        "\n",
        "def f(x):\n",
        "    return 100 - 2 * x**2 + 3 * x\n",
        "\n",
        "def maximizer(a, b, N, f):\n",
        "    x = np.linspace(a, b, N)\n",
        "    y = f(x)\n",
        "    max_index = np.argmax(y)\n",
        "    maximum = y[max_index]\n",
        "    maximizer_value = x[max_index]\n",
        "    return {'maximum': maximum, 'maximizer': maximizer_value}\n",
        "\n",
        "a = -1\n",
        "b = 1\n",
        "print(maximizer(a,b,3,f))\n",
        "print(maximizer(a,b,10,f))\n",
        "print(maximizer(a,b,100,f))\n",
        "print(maximizer(a,b,1000,f))\n",
        "print(maximizer(a,b,5000,f))\n",
        "\n",
        "f(.75)"
      ]
    },
    {
      "cell_type": "markdown",
      "source": [
        "3. The value of f at x = 0.75 is not the same between the previous step and the actual value. While the actual maximum value is 101.125 at x = 0.75, the previous step returned a marginally smaller maximum value and a marginally smaller x-value. This is because the maximizer function is an estimation that is based on how many steps (N) there are. If N is small, the estimation will be less accurate as seen with the function returning the maximum as 101.0 and the maximizer as 0.777. If N is large, the estimation will be more accurate as seen with the function essentially returning the correct answer but not completely. As N approaches infinity (gets larger and larger), the maximum and maximizer approach the actual value."
      ],
      "metadata": {
        "id": "M2bgAC-cw2zw"
      }
    }
  ]
}